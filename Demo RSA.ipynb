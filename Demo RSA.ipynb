{
 "cells": [
  {
   "cell_type": "code",
   "execution_count": 6,
   "metadata": {},
   "outputs": [],
   "source": [
    "# pip3 install pycryptodome\n",
    "import Crypto\n",
    "from Crypto import *\n",
    "from Crypto.Util import *\n",
    "\n",
    "message = 'En un lugar de la Mancha, de cuyo nombre no quiero acordarme...'\n",
    "\n",
    "# Calculo de valores y claves para RSA 2048\n",
    "\n",
    "p = Crypto.Util.number.getPrime(1024)\n",
    "q = Crypto.Util.number.getPrime(1024)\n",
    "\n",
    "N = p*q\n",
    "phi = (p-1)*(q-1)\n",
    "\n",
    "e = 65537\n",
    "d = Crypto.Util.number.inverse(e, phi) # Inverso de e modulo phi"
   ]
  },
  {
   "cell_type": "code",
   "execution_count": 7,
   "metadata": {},
   "outputs": [
    {
     "data": {
      "text/plain": [
       "1"
      ]
     },
     "execution_count": 7,
     "metadata": {},
     "output_type": "execute_result"
    }
   ],
   "source": [
    "# Comprobamos que e y d con inversos modulo phi\n",
    "e * d % phi"
   ]
  },
  {
   "cell_type": "code",
   "execution_count": 8,
   "metadata": {},
   "outputs": [
    {
     "data": {
      "text/plain": [
       "2468"
      ]
     },
     "execution_count": 8,
     "metadata": {},
     "output_type": "execute_result"
    }
   ],
   "source": [
    "len(str(N))*4"
   ]
  },
  {
   "cell_type": "code",
   "execution_count": 9,
   "metadata": {},
   "outputs": [],
   "source": [
    "# Transforma el texto a hexadecimal y hexadecimal a entero, y eleva a la clave publica. Devuelve hexadecimal\n",
    "def encrypt(mes, e):\n",
    "    hexmes = mes.encode().hex()\n",
    "    int_mes = int(hexmes, 16)\n",
    "    encrypted = pow(int_mes, e, N) # int_mes ^ e mod N\n",
    "    return hex(encrypted)\n",
    "\n",
    "# Transforma hexadecimal a entero y eleva a la clave privada. Devuelve ASCII\n",
    "def decrypt(hexcipher, d):\n",
    "    intcipher = int(hexcipher, 16)\n",
    "    decrypted_int = pow(intcipher, d, N)\n",
    "    decrypted_hex = hex(decrypted_int)[2:]\n",
    "    return bytes.fromhex(decrypted_hex).decode('ascii')"
   ]
  },
  {
   "cell_type": "code",
   "execution_count": 10,
   "metadata": {},
   "outputs": [
    {
     "name": "stdout",
     "output_type": "stream",
     "text": [
      "Texto cifrado: 0x2bdb40c75f3d652d316d8bf00b1f079826cae28eb0a2e5515ca4db697e02ecd81a77271fd719cbf1076d796faa5f189f8d53342b5c97edf889d9495e7252f15c96322de509912b6dadfaf32f962936df098070b42d95bbd340eb28b228f1004793da44f74aec9e1cfe8891c35bf2d1d2a874fb07999ad2824cc3b3be507dc0dd6451e9289dd6394b927af21eb4d78721271deef5540e3657b5b26a1896747d16b9a3e186171ab25a4622f8772cfaf6f5cf5c90d7ae40021a582c8fb978db73e42fc73f1ebc9411d00e437c89d1356a6dba0cd1472b30c4d7b689fca46cff4d5cda2024b8ad428e36ba1f801f4e551928007730a16fdcb5b26f0b2d58a7ce68a4\n"
     ]
    }
   ],
   "source": [
    "cipher = encrypt(message, e)\n",
    "print(\"Texto cifrado: \" + cipher)"
   ]
  },
  {
   "cell_type": "code",
   "execution_count": 11,
   "metadata": {},
   "outputs": [
    {
     "name": "stdout",
     "output_type": "stream",
     "text": [
      "Descifrado: En un lugar de la Mancha, de cuyo nombre no quiero acordarme...\n"
     ]
    }
   ],
   "source": [
    "dec = decrypt(cipher, d)\n",
    "print(\"Descifrado: \" + dec)"
   ]
  },
  {
   "cell_type": "code",
   "execution_count": null,
   "metadata": {},
   "outputs": [],
   "source": []
  }
 ],
 "metadata": {
  "kernelspec": {
   "display_name": "Python 3",
   "language": "python",
   "name": "python3"
  },
  "language_info": {
   "codemirror_mode": {
    "name": "ipython",
    "version": 3
   },
   "file_extension": ".py",
   "mimetype": "text/x-python",
   "name": "python",
   "nbconvert_exporter": "python",
   "pygments_lexer": "ipython3",
   "version": "3.6.9"
  }
 },
 "nbformat": 4,
 "nbformat_minor": 4
}
