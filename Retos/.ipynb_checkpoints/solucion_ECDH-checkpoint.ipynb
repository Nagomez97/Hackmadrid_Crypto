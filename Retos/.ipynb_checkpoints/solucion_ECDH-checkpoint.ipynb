{
 "cells": [
  {
   "cell_type": "code",
   "execution_count": 1,
   "metadata": {},
   "outputs": [],
   "source": [
    "# The curve is y^2 = x^3 + ax + b\n",
    "a = 1234577\n",
    "b = 3213242\n",
    "M = 7654319\n",
    "\n",
    "P = (5234568, 2287747) # A point in the curve\n",
    "\n",
    "Bob_pub = (2117949, 6309910)\n",
    "Alice_pub = (422105, 2014597)\n",
    "\n",
    "cipher = 'J31ueow1irdvyJ+1aGszetQAozbFFfK8q9hmT4ygOvytezpzJWnEE0eDjVAh5Loe'"
   ]
  },
  {
   "cell_type": "code",
   "execution_count": 2,
   "metadata": {},
   "outputs": [],
   "source": [
    "def add(A,B):\n",
    "    if A==(0,0): return B\n",
    "    if B==(0,0): return A\n",
    "    x1,y1 = A\n",
    "    x2,y2 = B\n",
    "    if A!=B:\n",
    "        p = (y2-y1)*pow(x2-x1,M-2,M)\n",
    "    else:\n",
    "        p = (3*x1*x1+a)*pow(2*y1,M-2,M)\n",
    "    x3 = p*p-x1-x2\n",
    "    y3 = p*(x1-x3)-y1\n",
    "    return (x3%M,y3%M)\n",
    "\n",
    "def mult(m, P):\n",
    "    added = P\n",
    "    for i in range(m):\n",
    "        added = add(added,P)\n",
    "    return added"
   ]
  },
  {
   "cell_type": "code",
   "execution_count": 3,
   "metadata": {},
   "outputs": [],
   "source": [
    "# Hacemos fuerza bruta para sacar la clave privada\n",
    "def bruteforce(P, pubkey):\n",
    "    X = (0,0)\n",
    "    for i in range(M):\n",
    "        X = add(X, P)\n",
    "        if X==pubkey:\n",
    "            secret = i\n",
    "            print('Private Key: '+str(secret))\n",
    "            return secret\n",
    "\n",
    "# Obtenemos el shared_secret\n",
    "def getSecret(broken_priv, pub2):\n",
    "    shared_secret = mult(broken_priv, pub2)\n",
    "    print('Shared Secret: ' + str(shared_secret))\n",
    "    return shared_secret"
   ]
  },
  {
   "cell_type": "code",
   "execution_count": 4,
   "metadata": {},
   "outputs": [
    {
     "name": "stdout",
     "output_type": "stream",
     "text": [
      "Private Key: 53047\n",
      "Shared Secret: (3128418, 2951723)\n"
     ]
    }
   ],
   "source": [
    "secret = bruteforce(P, Alice_pub)\n",
    "shared_secret = getSecret(secret, Bob_pub)"
   ]
  },
  {
   "cell_type": "code",
   "execution_count": 5,
   "metadata": {},
   "outputs": [
    {
     "ename": "ModuleNotFoundError",
     "evalue": "No module named 'AES'",
     "output_type": "error",
     "traceback": [
      "\u001b[0;31m---------------------------------------------------------------------------\u001b[0m",
      "\u001b[0;31mModuleNotFoundError\u001b[0m                       Traceback (most recent call last)",
      "\u001b[0;32m<ipython-input-5-3e5902149cf1>\u001b[0m in \u001b[0;36m<module>\u001b[0;34m\u001b[0m\n\u001b[0;32m----> 1\u001b[0;31m \u001b[0;32mimport\u001b[0m \u001b[0mAES\u001b[0m\u001b[0;34m\u001b[0m\u001b[0;34m\u001b[0m\u001b[0m\n\u001b[0m\u001b[1;32m      2\u001b[0m \u001b[0mencrypted_message\u001b[0m \u001b[0;34m=\u001b[0m \u001b[0mcipher\u001b[0m\u001b[0;34m\u001b[0m\u001b[0;34m\u001b[0m\u001b[0m\n\u001b[1;32m      3\u001b[0m \u001b[0mkey\u001b[0m \u001b[0;34m=\u001b[0m \u001b[0mstr\u001b[0m\u001b[0;34m(\u001b[0m\u001b[0mshared_secret\u001b[0m\u001b[0;34m[\u001b[0m\u001b[0;36m0\u001b[0m\u001b[0;34m]\u001b[0m\u001b[0;34m)\u001b[0m\u001b[0;34m\u001b[0m\u001b[0;34m\u001b[0m\u001b[0m\n\u001b[1;32m      4\u001b[0m \u001b[0maes_engine\u001b[0m \u001b[0;34m=\u001b[0m \u001b[0mAES\u001b[0m\u001b[0;34m.\u001b[0m\u001b[0mAESCipher\u001b[0m\u001b[0;34m(\u001b[0m\u001b[0mkey\u001b[0m\u001b[0;34m)\u001b[0m\u001b[0;34m\u001b[0m\u001b[0;34m\u001b[0m\u001b[0m\n\u001b[1;32m      5\u001b[0m \u001b[0mprint\u001b[0m\u001b[0;34m(\u001b[0m\u001b[0maes_engine\u001b[0m\u001b[0;34m.\u001b[0m\u001b[0mdecrypt\u001b[0m\u001b[0;34m(\u001b[0m\u001b[0mencrypted_message\u001b[0m\u001b[0;34m)\u001b[0m\u001b[0;34m)\u001b[0m\u001b[0;34m\u001b[0m\u001b[0;34m\u001b[0m\u001b[0m\n",
      "\u001b[0;31mModuleNotFoundError\u001b[0m: No module named 'AES'"
     ]
    }
   ],
   "source": [
    "import AES\n",
    "encrypted_message = cipher\n",
    "key = str(shared_secret[0])\n",
    "aes_engine = AES.AESCipher(key)\n",
    "print(aes_engine.decrypt(encrypted_message))"
   ]
  },
  {
   "cell_type": "code",
   "execution_count": null,
   "metadata": {},
   "outputs": [],
   "source": []
  }
 ],
 "metadata": {
  "kernelspec": {
   "display_name": "Python 3",
   "language": "python",
   "name": "python3"
  },
  "language_info": {
   "codemirror_mode": {
    "name": "ipython",
    "version": 3
   },
   "file_extension": ".py",
   "mimetype": "text/x-python",
   "name": "python",
   "nbconvert_exporter": "python",
   "pygments_lexer": "ipython3",
   "version": "3.6.9"
  }
 },
 "nbformat": 4,
 "nbformat_minor": 4
}
