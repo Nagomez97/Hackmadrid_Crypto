{
 "cells": [
  {
   "cell_type": "code",
   "execution_count": 70,
   "metadata": {},
   "outputs": [],
   "source": [
    "N = 11751378596934792907127208067752016464561857253977398383298914119634400780550741792709148386065377012841147448623764322393155710911699629645752287530082915883808934594590891024502116494119392387168961439853604299192915826905984936580571368487951342887759207760596525106369465603919967003127793052302701497985968599638952648428596203704398071041256533740136686180382714078781540763677429963618377512300952240440004195135921869000639898856141975488300142496693780063882111998860714891753044422432834064216629604063672409861975122620735521496781696205270805267820552720501155178827942629795447933198582883223041568123777\n",
    "e1 = 13\n",
    "e2 = 15\n",
    "c1 = 1418765304336135246142842185521642378446283703449881229022108295500632125687671206232082914935660263940298119112027915837013491855580265558911492599242019998182432757010586115360743433948594464080636473353540566957034811872717552447774717806422176480921762553999905833121279606794836227174640645088360988587551379728796027181502627410055409361230433225288349951573924443503130079314561499723523197912279121866632161907065780280466879416889250315968686717844023116837246513482246881675633285128530931833930764551679932098975062465691690023929381763352484821064840119624866354658519929794272737218365956805007112662429\n",
    "c2 = 6236284601224644268595938523595424507826655789628921020471565074109426820357902183108422313472132279612122246438572612416402177083457797194979544318718238208249098425155171683858691970704328605603072613346502550140332419337466127876700105510461259777868878062336835613360557938070492703851079705583656713920438656206561476821898853769887599715952555621824210653427083511677105046321994351196446522592296594520765356011706641675603146203490304579658778267309088989602982052800668747966451393458527296525697822850666660473396530941400310871585665505381594880964749680752216078651904942931850122279932848638231976151915"
   ]
  },
  {
   "cell_type": "code",
   "execution_count": 71,
   "metadata": {},
   "outputs": [
    {
     "name": "stdout",
     "output_type": "stream",
     "text": [
      "a: 7\n",
      "b: -6\n"
     ]
    }
   ],
   "source": [
    "import math\n",
    "\n",
    "# La funcion gcd() devuelve el MCD\n",
    "# Teorema de Bezout: si x e y son coprimos, entonces existen a y b tales que\n",
    "# ax + by = 1\n",
    "# En nuestro caso, como e1 y e2 son coprimos, existen a y b tales que\n",
    "# a*e1 + b*e2 = 1\n",
    "# Lo que significa que, si el mensaje cifrado es m^e1, podemos descifrarlo como\n",
    "# (m^e1)^a * (m^e2)^b\n",
    "# Ten en cuenta que conocemos los dos mensajes cifrados, c1 = m^e1 y c2 = m^e2\n",
    "# asi que tenemos todos los ingredientes. Faltan la a y la b\n",
    "\n",
    "# La funcion egcd() calcula dichos a y b para x e y\n",
    "def egcd(x,y):\n",
    "    if x == 0:\n",
    "        return (y, 0, 1)\n",
    "    else:\n",
    "        g, b, a = egcd(y % x, x)\n",
    "        return (g, a - (y // x) * b, b)\n",
    "    \n",
    "gcd, a, b = egcd(e1, e2)\n",
    "print('a: ' + str(a))\n",
    "print('b: ' + str(b))"
   ]
  },
  {
   "cell_type": "markdown",
   "metadata": {},
   "source": [
    "Ya sabemos que 7*e1 + (-6)*e2 = 1. Y, por tanto, c1^7 * c2^(-6) = m\n",
    "El problema ahora es que para elevar a numeros negativos, necesitamos saber el inverso de e2. Es decir, para calcular c2^(-6) necesitamos hacer (c2^(-1))^6. Pero esto no siempre es posible (puede tardar mucho). Probemos."
   ]
  },
  {
   "cell_type": "code",
   "execution_count": 72,
   "metadata": {},
   "outputs": [],
   "source": [
    "import Crypto\n",
    "from Crypto import *\n",
    "from Crypto.Util import *\n",
    "c2inv = Crypto.Util.number.inverse(c2,N)\n",
    "\n",
    "# En este caso, el calculo es inmediato"
   ]
  },
  {
   "cell_type": "code",
   "execution_count": 73,
   "metadata": {},
   "outputs": [],
   "source": [
    "# Ahora podemos calcular el mensaje como c1^7 + c2inv^6\n",
    "m = pow(c1, 7, N) * pow(c2inv, 6, N) % N"
   ]
  },
  {
   "cell_type": "code",
   "execution_count": 74,
   "metadata": {},
   "outputs": [],
   "source": [
    "hex_decrypted = hex(m)[2:] # Volvemos a hexadecimal, quitando los caracteres '0x'\n",
    "decrypted_message = bytes.fromhex(hex_decrypted).decode('ascii')"
   ]
  },
  {
   "cell_type": "code",
   "execution_count": 75,
   "metadata": {},
   "outputs": [
    {
     "name": "stdout",
     "output_type": "stream",
     "text": [
      "HACKMADRID{NeverEverReuseModulus}\n"
     ]
    }
   ],
   "source": [
    "print(decrypted_message)"
   ]
  },
  {
   "cell_type": "markdown",
   "metadata": {},
   "source": [
    "# Generando el reto"
   ]
  },
  {
   "cell_type": "code",
   "execution_count": 36,
   "metadata": {},
   "outputs": [],
   "source": [
    "from random import randint\n",
    "\n",
    "p = Crypto.Util.number.getPrime(1024)\n",
    "q = Crypto.Util.number.getPrime(1024)\n",
    "PHI = (p-1)*(q-1)\n",
    "N = p*q\n",
    "e1 = 13\n",
    "e2 = 15\n",
    "d1 = Crypto.Util.number.inverse(e1,PHI)\n",
    "d2 = Crypto.Util.number.inverse(e2,PHI)"
   ]
  },
  {
   "cell_type": "code",
   "execution_count": 64,
   "metadata": {},
   "outputs": [],
   "source": [
    "message = 'HACKMADRID{NeverEverReuseModulus}'\n",
    "hexmes = message1.encode().hex()\n",
    "def encrypt(message, e):\n",
    "    int_mes = int(message, 16)\n",
    "    encrypted = pow(int_mes, e, N)\n",
    "    return hex(encrypted)"
   ]
  },
  {
   "cell_type": "code",
   "execution_count": 65,
   "metadata": {},
   "outputs": [],
   "source": [
    "cipher1 = encrypt(hexmes, e1)\n",
    "cipher2 = encrypt(hexmes, e2)"
   ]
  },
  {
   "cell_type": "code",
   "execution_count": 66,
   "metadata": {},
   "outputs": [],
   "source": [
    "c1 = int(cipher1, 16)\n",
    "c2 = int(cipher2, 16)"
   ]
  },
  {
   "cell_type": "code",
   "execution_count": 67,
   "metadata": {},
   "outputs": [],
   "source": [
    "c2inv = Crypto.Util.number.inverse(c2,N)"
   ]
  },
  {
   "cell_type": "code",
   "execution_count": 68,
   "metadata": {},
   "outputs": [],
   "source": [
    "m = pow(c1, 7, N) * pow(c2inv, 6, N) % N"
   ]
  }
 ],
 "metadata": {
  "kernelspec": {
   "display_name": "Python 3",
   "language": "python",
   "name": "python3"
  },
  "language_info": {
   "codemirror_mode": {
    "name": "ipython",
    "version": 3
   },
   "file_extension": ".py",
   "mimetype": "text/x-python",
   "name": "python",
   "nbconvert_exporter": "python",
   "pygments_lexer": "ipython3",
   "version": "3.7.4"
  }
 },
 "nbformat": 4,
 "nbformat_minor": 4
}
