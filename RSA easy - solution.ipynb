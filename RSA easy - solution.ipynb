{
 "cells": [
  {
   "cell_type": "code",
   "execution_count": 191,
   "metadata": {},
   "outputs": [],
   "source": [
    "e = 65537\n",
    "N = 25693197123978473\n",
    "enc_flag = ['0xee729431b7a4a', '0x58030972cfaf5', '0x5ad5a69787f206', '0x24032ca73c87a2', '0xbd330bf095ff2', '0x377f4f35c739e0', '0x462afbd8294286', '0x194b8f42377c12']"
   ]
  },
  {
   "cell_type": "code",
   "execution_count": 192,
   "metadata": {},
   "outputs": [],
   "source": [
    "from Crypto import *\n",
    "from Crypto.Util import *\n",
    "\n",
    "# Necesitamos conocer Phi\n",
    "# https://www.alpertron.com.ar/ECM.HTM\n",
    "PHI = 25693196802793728\n",
    "\n",
    "# Como N es un numero \"pequeno\", podemos calcular su inverso modular facilmente\n",
    "c = Crypto.Util.number.inverse(e,PHI)"
   ]
  },
  {
   "cell_type": "code",
   "execution_count": 193,
   "metadata": {},
   "outputs": [],
   "source": [
    "def decrypt(hex_chunk):\n",
    "    int_chunk = int(hex_chunk, 16) # Convertimos hexadecimal a entero\n",
    "    decrypted = pow(int_chunk, c, N) # Desciframos el entero elevando a la clave privada\n",
    "    hex_decrypted = hex(decrypted)[2:] # Volvemos a hexadecimal, quitando los caracteres '0x'\n",
    "    decrypted_message = bytes.fromhex(hex_decrypted).decode('ascii') # Y de hex pasamos a ascii\n",
    "    print(decrypted_message, end='')\n",
    "    return decrypted_message"
   ]
  },
  {
   "cell_type": "code",
   "execution_count": 194,
   "metadata": {},
   "outputs": [
    {
     "name": "stdout",
     "output_type": "stream",
     "text": [
      "HACKMADRID{RSA_K3ys_are_2_small}"
     ]
    }
   ],
   "source": [
    "result = ''\n",
    "for chunk in enc_flag:\n",
    "    decrypt(chunk)"
   ]
  },
  {
   "cell_type": "code",
   "execution_count": 196,
   "metadata": {},
   "outputs": [],
   "source": [
    "message = 'HACKMADRID{RSA_K3ys_are_2_small}'\n",
    "hexmes = message.encode().hex()"
   ]
  },
  {
   "cell_type": "code",
   "execution_count": 200,
   "metadata": {},
   "outputs": [],
   "source": [
    "def encrypt(message):\n",
    "    int_mes = int(message, 16)\n",
    "    encrypted = pow(int_mes, e, N)\n",
    "    return hex(encrypted)"
   ]
  },
  {
   "cell_type": "code",
   "execution_count": 201,
   "metadata": {},
   "outputs": [],
   "source": [
    "enc_flag = []\n",
    "for i in range(8):\n",
    "    enc_flag.append(encrypt(hexmes[i*8: (i+1)*8]))  "
   ]
  },
  {
   "cell_type": "code",
   "execution_count": null,
   "metadata": {},
   "outputs": [],
   "source": []
  }
 ],
 "metadata": {
  "kernelspec": {
   "display_name": "Python 3",
   "language": "python",
   "name": "python3"
  },
  "language_info": {
   "codemirror_mode": {
    "name": "ipython",
    "version": 3
   },
   "file_extension": ".py",
   "mimetype": "text/x-python",
   "name": "python",
   "nbconvert_exporter": "python",
   "pygments_lexer": "ipython3",
   "version": "3.7.4"
  }
 },
 "nbformat": 4,
 "nbformat_minor": 4
}
