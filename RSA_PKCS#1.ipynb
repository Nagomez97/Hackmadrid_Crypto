{
 "cells": [
  {
   "cell_type": "code",
   "execution_count": 151,
   "metadata": {},
   "outputs": [],
   "source": [
    "pkey = \"-----BEGIN PUBLIC KEY-----\\nMCwwDQYJKoZIhvcNAQEBBQADGwAwGAIRAOSpZLB7VXE7iZA72YTS85UCAwEAAQ==\\n-----END PUBLIC KEY-----\"\n",
    "message = [\n",
    "    \"XnZvSmNqZqz+N5LL+ec6XA==\",\n",
    "    \"k4TD9AHouSlxdn97PXfmOg==\",\n",
    "    \"FhHp7W1orCt78mlz5PNGBQ==\",\n",
    "    \"a5FPpzeDX29qOriH2kS64A==\",\n",
    "    \"XCWOYhWFC6v3wa3qM58v5g==\",\n",
    "    \"qlLYhsaMWbOvCXddqsQ/pA==\",\n",
    "    \"i1jClSfyTf8XLiT57Su6IQ==\",\n",
    "    \"DZbTy4vMKW0WqjrD7CspMg==\"\n",
    "]"
   ]
  },
  {
   "cell_type": "code",
   "execution_count": 145,
   "metadata": {},
   "outputs": [],
   "source": [
    "from Crypto.PublicKey import RSA\n",
    "# Tenemos una clave en formato PKCS#1\n",
    "# Podemos decodificarla para obtener un objeto key\n",
    "# O bien podemos usar un decoder online (decode pkcs1 rsa online)\n",
    "key = RSA.importKey(pkey)\n",
    "N = key.n\n",
    "e = key.e"
   ]
  },
  {
   "cell_type": "code",
   "execution_count": 146,
   "metadata": {},
   "outputs": [],
   "source": [
    "import Crypto\n",
    "from Crypto import *\n",
    "from Crypto.Util import *\n",
    "\n",
    "# Necesitamos conocer Phi\n",
    "# https://www.alpertron.com.ar/ECM.HTM\n",
    "PHI = 303943523431340122162345926633402961696\n",
    "\n",
    "# Como N es un numero \"pequeno\", podemos calcular su inverso modular facilmente\n",
    "c = Crypto.Util.number.inverse(e,PHI)"
   ]
  },
  {
   "cell_type": "code",
   "execution_count": 147,
   "metadata": {},
   "outputs": [],
   "source": [
    "import base64\n",
    "message = 'HACKMADRID{PKCS1_should_you_use}'\n",
    "enc_flag = []\n",
    "for i in range(4):\n",
    "    enc_flag.append(encrypt(message[i*8: (i+1)*8]))\n"
   ]
  },
  {
   "cell_type": "code",
   "execution_count": 148,
   "metadata": {},
   "outputs": [],
   "source": [
    "def encrypt(chunk):\n",
    "    encoded = int.from_bytes(chunk.encode('utf-8'), \"big\")\n",
    "    encrypted = pow(encoded, e, N)\n",
    "    enchunk = base64.b64encode(str(encrypted).encode('ascii'))\n",
    "    return enchunk"
   ]
  },
  {
   "cell_type": "code",
   "execution_count": 149,
   "metadata": {},
   "outputs": [],
   "source": [
    "def decrypt(b64chunk):\n",
    "    bytes_decoded = base64.b64decode(b64chunk)\n",
    "    int_decoded = int(bytes_decoded)\n",
    "    decrypted = pow(int_decoded, c, N)\n",
    "    hex_decrypted = hex(decrypted)[2:] # Volvemos a hexadecimal, quitando los caracteres '0x'\n",
    "    decrypted_message = bytes.fromhex(hex_decrypted).decode('ascii') # Y de hex pasamos a ascii\n",
    "    print(decrypted_message, end='')\n",
    "    return decrypted_message"
   ]
  },
  {
   "cell_type": "code",
   "execution_count": 150,
   "metadata": {},
   "outputs": [
    {
     "name": "stdout",
     "output_type": "stream",
     "text": [
      "HACKMADRID{PKCS1_should_you_use}"
     ]
    }
   ],
   "source": [
    "for chunk in enc_flag:\n",
    "    decrypt(chunk)"
   ]
  },
  {
   "cell_type": "code",
   "execution_count": null,
   "metadata": {},
   "outputs": [],
   "source": []
  },
  {
   "cell_type": "code",
   "execution_count": null,
   "metadata": {},
   "outputs": [],
   "source": []
  }
 ],
 "metadata": {
  "kernelspec": {
   "display_name": "Python 3",
   "language": "python",
   "name": "python3"
  },
  "language_info": {
   "codemirror_mode": {
    "name": "ipython",
    "version": 3
   },
   "file_extension": ".py",
   "mimetype": "text/x-python",
   "name": "python",
   "nbconvert_exporter": "python",
   "pygments_lexer": "ipython3",
   "version": "3.7.4"
  }
 },
 "nbformat": 4,
 "nbformat_minor": 4
}
