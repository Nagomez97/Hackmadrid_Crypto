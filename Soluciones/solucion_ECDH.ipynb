{
 "cells": [
  {
   "cell_type": "code",
   "execution_count": 6,
   "metadata": {},
   "outputs": [],
   "source": [
    "# The curve is y^2 = x^3 + ax + b\n",
    "a = 1234577\n",
    "b = 3213242\n",
    "M = 7654319\n",
    "\n",
    "P = (5234568, 2287747) # A point in the curve\n",
    "\n",
    "Bob_pub = (2117949, 6309910)\n",
    "Alice_pub = (422105, 2014597)\n",
    "\n",
    "cipher = 'J31ueow1irdvyJ+1aGszetQAozbFFfK8q9hmT4ygOvytezpzJWnEE0eDjVAh5Loe'"
   ]
  },
  {
   "cell_type": "code",
   "execution_count": 7,
   "metadata": {},
   "outputs": [],
   "source": [
    "def add(A,B):\n",
    "    if A==(0,0): return B\n",
    "    if B==(0,0): return A\n",
    "    x1,y1 = A\n",
    "    x2,y2 = B\n",
    "    if A!=B:\n",
    "        p = (y2-y1)*pow(x2-x1,M-2,M)\n",
    "    else:\n",
    "        p = (3*x1*x1+a)*pow(2*y1,M-2,M)\n",
    "    x3 = p*p-x1-x2\n",
    "    y3 = p*(x1-x3)-y1\n",
    "    return (x3%M,y3%M)\n",
    "\n",
    "def mult(m, P):\n",
    "    added = P\n",
    "    for i in range(m):\n",
    "        added = add(added,P)\n",
    "    return added"
   ]
  },
  {
   "cell_type": "code",
   "execution_count": 8,
   "metadata": {},
   "outputs": [],
   "source": [
    "# Hacemos fuerza bruta para sacar la clave privada\n",
    "def bruteforce(P, pubkey):\n",
    "    X = (0,0)\n",
    "    for i in range(M):\n",
    "        X = add(X, P)\n",
    "        if X==pubkey:\n",
    "            secret = i\n",
    "            print('Private Key: '+str(secret))\n",
    "            return secret\n",
    "\n",
    "# Obtenemos el shared_secret\n",
    "def getSecret(broken_priv, pub2):\n",
    "    shared_secret = mult(broken_priv, pub2)\n",
    "    print('Shared Secret: ' + str(shared_secret))\n",
    "    return shared_secret"
   ]
  },
  {
   "cell_type": "code",
   "execution_count": 9,
   "metadata": {},
   "outputs": [
    {
     "name": "stdout",
     "output_type": "stream",
     "text": [
      "Private Key: 53047\n",
      "Shared Secret: (3128418, 2951723)\n"
     ]
    }
   ],
   "source": [
    "secret = bruteforce(P, Alice_pub)\n",
    "shared_secret = getSecret(secret, Bob_pub)"
   ]
  },
  {
   "cell_type": "code",
   "execution_count": 11,
   "metadata": {},
   "outputs": [
    {
     "name": "stdout",
     "output_type": "stream",
     "text": [
      "HACKMADRID{DontUseWeakKeys!}\n"
     ]
    }
   ],
   "source": [
    "import AES #Este paquete es el que entregamos como pista\n",
    "encrypted_message = cipher\n",
    "key = str(shared_secret[0])\n",
    "aes_engine = AES.AESCipher(key)\n",
    "print(aes_engine.decrypt(encrypted_message))"
   ]
  },
  {
   "cell_type": "code",
   "execution_count": null,
   "metadata": {},
   "outputs": [],
   "source": []
  }
 ],
 "metadata": {
  "kernelspec": {
   "display_name": "Python 3",
   "language": "python",
   "name": "python3"
  },
  "language_info": {
   "codemirror_mode": {
    "name": "ipython",
    "version": 3
   },
   "file_extension": ".py",
   "mimetype": "text/x-python",
   "name": "python",
   "nbconvert_exporter": "python",
   "pygments_lexer": "ipython3",
   "version": "3.6.9"
  }
 },
 "nbformat": 4,
 "nbformat_minor": 4
}
