{
 "cells": [
  {
   "cell_type": "code",
   "execution_count": 29,
   "metadata": {},
   "outputs": [],
   "source": [
    "# pip3 install pycryptodome\n",
    "import Crypto\n",
    "from Crypto import *\n",
    "from Crypto.Util import *\n",
    "\n",
    "message = 'En un lugar de la Mancha, de cuyo nombre no quiero acordarme...'\n",
    "\n",
    "# Calculo de valores y claves para RSA 2048\n",
    "\n",
    "p = Crypto.Util.number.getPrime(1024)\n",
    "q = Crypto.Util.number.getPrime(1024)\n",
    "\n",
    "N = p*q\n",
    "phi = (p-1)*(q-1)\n",
    "\n",
    "e = 65537\n",
    "d = Crypto.Util.number.inverse(e, phi) # Inverso de e modulo phi"
   ]
  },
  {
   "cell_type": "code",
   "execution_count": 30,
   "metadata": {},
   "outputs": [
    {
     "data": {
      "text/plain": [
       "1"
      ]
     },
     "execution_count": 30,
     "metadata": {},
     "output_type": "execute_result"
    }
   ],
   "source": [
    "# Comprobamos que e y d con inversos modulo phi\n",
    "e * d % phi"
   ]
  },
  {
   "cell_type": "code",
   "execution_count": 31,
   "metadata": {},
   "outputs": [],
   "source": [
    "# Transforma el texto a hexadecimal y hexadecimal a entero, y eleva a la clave publica. Devuelve hexadecimal\n",
    "def encrypt(mes, e):\n",
    "    hexmes = mes.encode().hex()\n",
    "    int_mes = int(hexmes, 16)\n",
    "    encrypted = pow(int_mes, e, N) # int_mes ^ e mod N\n",
    "    return hex(encrypted)\n",
    "\n",
    "# Transforma hexadecimal a entero y eleva a la clave privada. Devuelve ASCII\n",
    "def decrypt(hexcipher, d):\n",
    "    intcipher = int(hexcipher, 16)\n",
    "    decrypted_int = pow(intcipher, d, N)\n",
    "    decrypted_hex = hex(decrypted_int)[2:]\n",
    "    return bytes.fromhex(decrypted_hex).decode('ascii')"
   ]
  },
  {
   "cell_type": "code",
   "execution_count": 32,
   "metadata": {},
   "outputs": [
    {
     "name": "stdout",
     "output_type": "stream",
     "text": [
      "Texto cifrado: 0x593e8363c66f964e6bef0191a1edb4a503569fec93628c67575c1dec445e8a30f85129d9ddefd7882bde953c6ce198540eab1d518f13214ec56e8a2d6b24db11402a96d12e3036825980b5d54c25ffbc34e4dba49ff262160e5abb0fd753d7f29fc91ba41e9f5d3b59850d9ebb13ff95d66aadab93ac61ef633ba5712a6808cd05e8344c334e543cfd317bff0fad1e3a3b500c7ba2810a0bf22103ab65361f4aca19ec4c6e4defe8728e4be48bf3e264df3e411b49c53ea0621ab9274dee1442f5ec93bd1b43f032495300c951a3c300a465bb902fb74851fdf7bf65493f3c292061b48170683cfe4c5d2beca00e5e93075fdbe943060ca52ef2d99de416491e\n"
     ]
    }
   ],
   "source": [
    "cipher = encrypt(message, e)\n",
    "print(\"Texto cifrado: \" + cipher)"
   ]
  },
  {
   "cell_type": "code",
   "execution_count": 33,
   "metadata": {},
   "outputs": [
    {
     "name": "stdout",
     "output_type": "stream",
     "text": [
      "Descifrado: En un lugar de la Mancha, de cuyo nombre no quiero acordarme...\n"
     ]
    }
   ],
   "source": [
    "dec = decrypt(cipher, d)\n",
    "print(\"Descifrado: \" + dec)"
   ]
  },
  {
   "cell_type": "code",
   "execution_count": null,
   "metadata": {},
   "outputs": [],
   "source": []
  }
 ],
 "metadata": {
  "kernelspec": {
   "display_name": "Python 3",
   "language": "python",
   "name": "python3"
  },
  "language_info": {
   "codemirror_mode": {
    "name": "ipython",
    "version": 3
   },
   "file_extension": ".py",
   "mimetype": "text/x-python",
   "name": "python",
   "nbconvert_exporter": "python",
   "pygments_lexer": "ipython3",
   "version": "3.6.9"
  }
 },
 "nbformat": 4,
 "nbformat_minor": 4
}
