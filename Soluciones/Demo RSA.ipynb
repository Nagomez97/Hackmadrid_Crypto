{
 "cells": [
  {
   "cell_type": "code",
   "execution_count": 1,
   "metadata": {},
   "outputs": [],
   "source": [
    "# pip3 install pycryptodome\n",
    "import Crypto\n",
    "from Crypto import *\n",
    "from Crypto.Util import *\n",
    "\n",
    "message = 'En un lugar de la Mancha, de cuyo nombre no quiero acordarme...'\n",
    "\n",
    "# Calculo de valores y claves para RSA 2048\n",
    "\n",
    "p = Crypto.Util.number.getPrime(1024)\n",
    "q = Crypto.Util.number.getPrime(1024)\n",
    "\n",
    "N = p*q\n",
    "phi = (p-1)*(q-1)\n",
    "\n",
    "e = 65537\n",
    "d = Crypto.Util.number.inverse(e, phi) # Inverso de e modulo phi"
   ]
  },
  {
   "cell_type": "code",
   "execution_count": 2,
   "metadata": {},
   "outputs": [
    {
     "data": {
      "text/plain": [
       "1"
      ]
     },
     "execution_count": 2,
     "metadata": {},
     "output_type": "execute_result"
    }
   ],
   "source": [
    "# Comprobamos que e y d con inversos modulo phi\n",
    "e * d % phi"
   ]
  },
  {
   "cell_type": "code",
   "execution_count": null,
   "metadata": {},
   "outputs": [],
   "source": []
  },
  {
   "cell_type": "code",
   "execution_count": 9,
   "metadata": {},
   "outputs": [],
   "source": [
    "# Transforma el texto a hexadecimal y hexadecimal a entero, y eleva a la clave publica. Devuelve hexadecimal\n",
    "def encrypt(mes, e):\n",
    "    hexmes = mes.encode().hex()\n",
    "    int_mes = int(hexmes, 16)\n",
    "    encrypted = pow(int_mes, e, N) # int_mes ^ e mod N\n",
    "    return hex(encrypted)\n",
    "\n",
    "# Transforma hexadecimal a entero y eleva a la clave privada. Devuelve ASCII\n",
    "def decrypt(hexcipher, d):\n",
    "    intcipher = int(hexcipher, 16)\n",
    "    decrypted_int = pow(intcipher, d, N)\n",
    "    decrypted_hex = hex(decrypted_int)[2:]\n",
    "    return bytes.fromhex(decrypted_hex).decode('ascii')"
   ]
  },
  {
   "cell_type": "code",
   "execution_count": 10,
   "metadata": {},
   "outputs": [
    {
     "name": "stdout",
     "output_type": "stream",
     "text": [
      "Texto cifrado: 0x14bf87b354ada0ee5d32ad7e64160a1b3142710d2fc7bc90b1f12ebd1c9e1fc49a277dd64a2f78c70fb93a8a8d6e08af79e2312c00258a0706ad40a20382da3ca9759c5590a0ef7e65ee93dc46445754533870e58c011dbfa80577d07b8930538df6ee7d0ec0d903f83c38e600e671caf4d0cbd1c57fcac7ca37de360859633dc84c841d0dfd7f6921724cee0cefc2f097423c1346eaeed9703dac0475f6e2024223eb7189c1e27a20087ad6594ad4a912f2d07d7b60a67c5b784a7cce24f7c17acd9d72b6a6e95145031704fe42ae2bad3d77ca75ec41a8c35090e1bedefce3fb5437839b251560ece30f6888965b5591c95b176e2d995fd5f7feff340848f1\n"
     ]
    }
   ],
   "source": [
    "cipher = encrypt(message, e)\n",
    "print(\"Texto cifrado: \" + cipher)"
   ]
  },
  {
   "cell_type": "code",
   "execution_count": 11,
   "metadata": {},
   "outputs": [
    {
     "name": "stdout",
     "output_type": "stream",
     "text": [
      "Descifrado: En un lugar de la Mancha, de cuyo nombre no quiero acordarme...\n"
     ]
    }
   ],
   "source": [
    "dec = decrypt(cipher, d)\n",
    "print(\"Descifrado: \" + dec)"
   ]
  },
  {
   "cell_type": "code",
   "execution_count": null,
   "metadata": {},
   "outputs": [],
   "source": []
  }
 ],
 "metadata": {
  "kernelspec": {
   "display_name": "Python 3",
   "language": "python",
   "name": "python3"
  },
  "language_info": {
   "codemirror_mode": {
    "name": "ipython",
    "version": 3
   },
   "file_extension": ".py",
   "mimetype": "text/x-python",
   "name": "python",
   "nbconvert_exporter": "python",
   "pygments_lexer": "ipython3",
   "version": "3.6.9"
  }
 },
 "nbformat": 4,
 "nbformat_minor": 4
}
