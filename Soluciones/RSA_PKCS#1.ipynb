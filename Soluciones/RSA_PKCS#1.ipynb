{
 "cells": [
  {
   "cell_type": "markdown",
   "metadata": {},
   "source": [
    "# Datos del reto"
   ]
  },
  {
   "cell_type": "code",
   "execution_count": 10,
   "metadata": {},
   "outputs": [],
   "source": [
    "pkey = \"-----BEGIN PUBLIC KEY-----\\nMCwwDQYJKoZIhvcNAQEBBQADGwAwGAIRAOSpZLB7VXE7iZA72YTS85UCAwEAAQ==\\n-----END PUBLIC KEY-----\"\n",
    "enc_message = [\n",
    "    b\"MjkyNDc1MjY0MTE0NjQzNDkwNzU5OTQzOTUzMzUyNjY0MzkyNzA0\",\n",
    "    b\"MTQzMTU2NDg1MDc3ODQzMzczNTY2NDg3NTI2MzMzMjg5NzU1Mzk=\",\n",
    "    b\"MTYyNTY0ODMwMzA2OTI0NzY1MTg2OTQ1ODg3MzY4MjIwMzg3NTIx\",\n",
    "    b\"MTg0NzQ3Nzk5NDcyMjg4NTQ2NzQ0MTQ2MDAxNjc2MDI2NDI3NTU5\"\n",
    "]"
   ]
  },
  {
   "cell_type": "markdown",
   "metadata": {},
   "source": [
    "# Obtenemos las claves"
   ]
  },
  {
   "cell_type": "code",
   "execution_count": 11,
   "metadata": {},
   "outputs": [],
   "source": [
    "from Crypto.PublicKey import RSA\n",
    "# Tenemos una clave en formato PKCS#1\n",
    "# Podemos decodificarla para obtener un objeto key\n",
    "# O bien podemos usar un decoder online (decode pkcs1 rsa online)\n",
    "key = RSA.importKey(pkey)\n",
    "N = key.n\n",
    "e = key.e"
   ]
  },
  {
   "cell_type": "code",
   "execution_count": 12,
   "metadata": {},
   "outputs": [],
   "source": [
    "import Crypto\n",
    "from Crypto import *\n",
    "from Crypto.Util import *\n",
    "\n",
    "# Necesitamos conocer Phi\n",
    "# https://www.alpertron.com.ar/ECM.HTM\n",
    "PHI = 303943523431340122162345926633402961696\n",
    "\n",
    "# Como N es un numero \"pequeno\", podemos calcular su inverso modular facilmente\n",
    "d = Crypto.Util.number.inverse(e,PHI)"
   ]
  },
  {
   "cell_type": "markdown",
   "metadata": {},
   "source": [
    "# Funciones de cifrado y descifrado"
   ]
  },
  {
   "cell_type": "code",
   "execution_count": 13,
   "metadata": {},
   "outputs": [],
   "source": [
    "def encrypt(chunk):\n",
    "    encoded = int.from_bytes(chunk.encode('utf-8'), \"big\")\n",
    "    encrypted = pow(encoded, e, N)\n",
    "    enchunk = base64.b64encode(str(encrypted).encode('ascii'))\n",
    "    return enchunk"
   ]
  },
  {
   "cell_type": "code",
   "execution_count": 14,
   "metadata": {},
   "outputs": [],
   "source": [
    "def decrypt(b64chunk):\n",
    "    bytes_decoded = base64.b64decode(b64chunk)\n",
    "    int_decoded = int(bytes_decoded)\n",
    "    decrypted = pow(int_decoded, d, N)\n",
    "    hex_decrypted = hex(decrypted)[2:] # Volvemos a hexadecimal, quitando los caracteres '0x'\n",
    "    decrypted_message = bytes.fromhex(hex_decrypted).decode('ascii') # Y de hex pasamos a ascii\n",
    "    print(decrypted_message, end='')\n",
    "    return decrypted_message"
   ]
  },
  {
   "cell_type": "markdown",
   "metadata": {},
   "source": [
    "# Resolvemos"
   ]
  },
  {
   "cell_type": "code",
   "execution_count": 15,
   "metadata": {},
   "outputs": [
    {
     "name": "stdout",
     "output_type": "stream",
     "text": [
      "HACKMADRID{PKCS1_should_you_use}"
     ]
    }
   ],
   "source": [
    "for chunk in enc_message:\n",
    "    decrypt(chunk)"
   ]
  },
  {
   "cell_type": "markdown",
   "metadata": {},
   "source": [
    "# Generamos el reto"
   ]
  },
  {
   "cell_type": "code",
   "execution_count": 16,
   "metadata": {},
   "outputs": [],
   "source": [
    "import base64\n",
    "message = 'HACKMADRID{PKCS1_should_you_use}'\n",
    "enc_flag = []\n",
    "for i in range(4):\n",
    "    enc_flag.append(encrypt(message[i*8: (i+1)*8]))\n"
   ]
  }
 ],
 "metadata": {
  "kernelspec": {
   "display_name": "Python 3",
   "language": "python",
   "name": "python3"
  },
  "language_info": {
   "codemirror_mode": {
    "name": "ipython",
    "version": 3
   },
   "file_extension": ".py",
   "mimetype": "text/x-python",
   "name": "python",
   "nbconvert_exporter": "python",
   "pygments_lexer": "ipython3",
   "version": "3.6.9"
  }
 },
 "nbformat": 4,
 "nbformat_minor": 4
}
