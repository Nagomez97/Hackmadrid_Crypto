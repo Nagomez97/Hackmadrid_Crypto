{
 "cells": [
  {
   "cell_type": "markdown",
   "metadata": {},
   "source": [
    "# ECDH"
   ]
  },
  {
   "cell_type": "code",
   "execution_count": 147,
   "metadata": {},
   "outputs": [],
   "source": [
    "import Crypto\n",
    "from Crypto import *\n",
    "from Crypto.Util import *\n",
    "\n",
    "# Private keys\n",
    "Alice_priv = Crypto.Util.number.getPrime(16)\n",
    "Bob_priv = Crypto.Util.number.getPrime(16)\n",
    "\n",
    "# The curve is y^2 = x^3 + ax + b\n",
    "a = 1234577\n",
    "b = 3213242\n",
    "M = 7654319\n",
    "\n",
    "P = (5234568, 2287747) # A point in the curve\n",
    "\n",
    "def add(A,B):\n",
    "    if A==(0,0): return B\n",
    "    if B==(0,0): return A\n",
    "    x1,y1 = A\n",
    "    x2,y2 = B\n",
    "    if A!=B:\n",
    "        p = (y2-y1)*pow(x2-x1,M-2,M)\n",
    "    else:\n",
    "        p = (3*x1*x1+a)*pow(2*y1,M-2,M)\n",
    "    x3 = p*p-x1-x2\n",
    "    y3 = p*(x1-x3)-y1\n",
    "    return (x3%M,y3%M)\n",
    "\n",
    "def mult(m, P):\n",
    "    added = P\n",
    "    for i in range(m):\n",
    "        added = add(added,P)\n",
    "    return added"
   ]
  },
  {
   "cell_type": "code",
   "execution_count": 148,
   "metadata": {},
   "outputs": [],
   "source": [
    "# Public: P, a, b, M, Bob_pub, Alice_pub\n",
    "Bob_pub = mult(Bob_priv,P)\n",
    "Alice_pub = mult(Alice_priv, P)\n",
    "\n",
    "# Private\n",
    "shared_secret = mult(Alice_priv, Bob_pub)"
   ]
  },
  {
   "cell_type": "markdown",
   "metadata": {},
   "source": [
    "# Encryption"
   ]
  },
  {
   "cell_type": "code",
   "execution_count": 149,
   "metadata": {},
   "outputs": [],
   "source": [
    "# We use the X coordinate of the shared_secret to encrypt.\n",
    "key = str(shared_secret[0])\n",
    "\n",
    "\n",
    "import base64\n",
    "import hashlib\n",
    "from Crypto import Random\n",
    "from Crypto.Cipher import AES\n",
    "\n",
    "class AESCipher(object):\n",
    "\n",
    "    def __init__(self, key): \n",
    "        self.bs = AES.block_size\n",
    "        self.key = hashlib.sha256(key.encode()).digest()\n",
    "\n",
    "    def encrypt(self, raw):\n",
    "        raw = self._pad(raw)\n",
    "        iv = Random.new().read(AES.block_size)\n",
    "        cipher = AES.new(self.key, AES.MODE_CBC, iv)\n",
    "        return base64.b64encode(iv + cipher.encrypt(raw.encode()))\n",
    "\n",
    "    def decrypt(self, enc):\n",
    "        enc = base64.b64decode(enc.encode())\n",
    "        iv = enc[:AES.block_size]\n",
    "        cipher = AES.new(self.key, AES.MODE_CBC, iv)\n",
    "        return self._unpad(cipher.decrypt(enc[AES.block_size:])).decode('utf-8')\n",
    "\n",
    "    def _pad(self, s):\n",
    "        return s + (self.bs - len(s) % self.bs) * chr(self.bs - len(s) % self.bs)\n",
    "\n",
    "    @staticmethod\n",
    "    def _unpad(s):\n",
    "        return s[:-ord(s[len(s)-1:])]\n"
   ]
  },
  {
   "cell_type": "code",
   "execution_count": 150,
   "metadata": {},
   "outputs": [
    {
     "name": "stdout",
     "output_type": "stream",
     "text": [
      "Encrypted message: b'J31ueow1irdvyJ+1aGszetQAozbFFfK8q9hmT4ygOvytezpzJWnEE0eDjVAh5Loe'\n"
     ]
    }
   ],
   "source": [
    "aes_engine = AESCipher(key)\n",
    "cipher = aes_engine.encrypt(\"HACKMADRID{DontUseWeakKeys!}\")\n",
    "print('Encrypted message: ' + str(cipher))"
   ]
  },
  {
   "cell_type": "code",
   "execution_count": null,
   "metadata": {},
   "outputs": [],
   "source": []
  },
  {
   "cell_type": "markdown",
   "metadata": {},
   "source": [
    "# Solucion"
   ]
  },
  {
   "cell_type": "code",
   "execution_count": 151,
   "metadata": {},
   "outputs": [],
   "source": [
    "# Como enunciado nos dan:\n",
    "# The curve is y^2 = x^3 + ax + b\n",
    "\n",
    "a = 1234577\n",
    "b = 3213242\n",
    "M = 7654319\n",
    "\n",
    "P = (5234568, 2287747) # A point in the curve\n",
    "\n",
    "# Ademas, conocemos las claves publicas de Alice y de Bob, por lo que suponemos un\n",
    "# intercambio de claves ECDH\n",
    "\n",
    "# Puede que no sepamos como funciona el algebra de curvas elipticas, pero no hay que asustarse. \n",
    "# Nos dan las operaciones hechas\n",
    "\n",
    "def add(A,B):\n",
    "    if A==(0,0): return B\n",
    "    if B==(0,0): return A\n",
    "    x1,y1 = A\n",
    "    x2,y2 = B\n",
    "    if A!=B:\n",
    "        p = (y2-y1)*pow(x2-x1,M-2,M)\n",
    "    else:\n",
    "        p = (3*x1*x1+a)*pow(2*y1,M-2,M)\n",
    "    x3 = p*p-x1-x2\n",
    "    y3 = p*(x1-x3)-y1\n",
    "    return (x3%M,y3%M)\n",
    "\n",
    "def mult(m, P):\n",
    "    added = P\n",
    "    for i in range(m):\n",
    "        added = add(added,P)\n",
    "    return added\n",
    "\n",
    "# Sabemos entonces que las claves privadas son enteros aleatorios de 16 bits de longitud\n",
    "# Private keys\n",
    "Alice_priv = Crypto.Util.number.getPrime(16)\n",
    "Bob_priv = Crypto.Util.number.getPrime(16)"
   ]
  },
  {
   "cell_type": "markdown",
   "metadata": {},
   "source": [
    "### Por otro lado, nos dan lo que parece ser un texto cifrado en formato base64. Mirando el codigo filtrado del algoritmo, nos damos cuenta de que han usado el secreto compartido ECDH para cifrar un mensaje en AES256."
   ]
  },
  {
   "cell_type": "markdown",
   "metadata": {},
   "source": [
    "### Como las claves privadas y el modulo M son relativamente cortos, podemos hacer fuerza bruta para obtener las claves privadas y, de esa forma, el shared_secret que se ha usado para cifrar AES"
   ]
  },
  {
   "cell_type": "code",
   "execution_count": 164,
   "metadata": {},
   "outputs": [],
   "source": [
    "# Hacemos fuerza bruta para sacar la clave privada\n",
    "def bruteforce(P, pubkey):\n",
    "    X = (0,0)\n",
    "    for i in range(M):\n",
    "        X = add(X, P)\n",
    "        if X==pubkey:\n",
    "            secret = i\n",
    "            print('Private Key: '+str(secret))\n",
    "            return secret\n",
    "\n",
    "# Obtenemos el shared_secret\n",
    "def getSecret(broken_priv, pub2):\n",
    "    shared_secret = mult(broken_priv, pub2)\n",
    "    print('Shared Secret: ' + str(shared_secret))\n",
    "    return shared_secret"
   ]
  },
  {
   "cell_type": "code",
   "execution_count": 165,
   "metadata": {},
   "outputs": [
    {
     "name": "stdout",
     "output_type": "stream",
     "text": [
      "Private Key: 53047\n",
      "Shared Secret: (3128418, 2951723)\n"
     ]
    }
   ],
   "source": [
    "secret = bruteforce(P, Alice_pub)\n",
    "shared_secret = getSecret(secret, Bob_pub)"
   ]
  },
  {
   "cell_type": "markdown",
   "metadata": {},
   "source": [
    "### La clave usada en el algoritmo AES del codigo sera el hash SHA256 de la primera coordenada de shared_secret"
   ]
  },
  {
   "cell_type": "code",
   "execution_count": 166,
   "metadata": {},
   "outputs": [
    {
     "name": "stdout",
     "output_type": "stream",
     "text": [
      "HACKMADRID{DontUseWeakKeys!}\n"
     ]
    }
   ],
   "source": [
    "import AES\n",
    "\n",
    "encrypted_message = cipher.decode()\n",
    "key = str(shared_secret[0])\n",
    "aes_engine = AES.AESCipher(key)\n",
    "print(aes_engine.decrypt(encrypted_message))"
   ]
  },
  {
   "cell_type": "code",
   "execution_count": null,
   "metadata": {},
   "outputs": [],
   "source": []
  },
  {
   "cell_type": "code",
   "execution_count": null,
   "metadata": {},
   "outputs": [],
   "source": []
  }
 ],
 "metadata": {
  "kernelspec": {
   "display_name": "Python 3",
   "language": "python",
   "name": "python3"
  },
  "language_info": {
   "codemirror_mode": {
    "name": "ipython",
    "version": 3
   },
   "file_extension": ".py",
   "mimetype": "text/x-python",
   "name": "python",
   "nbconvert_exporter": "python",
   "pygments_lexer": "ipython3",
   "version": "3.6.9"
  }
 },
 "nbformat": 4,
 "nbformat_minor": 4
}
